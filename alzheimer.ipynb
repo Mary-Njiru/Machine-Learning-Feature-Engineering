{
 "cells": [
  {
   "cell_type": "code",
   "execution_count": null,
   "id": "f81b6bdf-a2ea-4aac-b6f8-81616193dd2a",
   "metadata": {},
   "outputs": [],
   "source": []
  },
  {
   "cell_type": "code",
   "execution_count": 1,
   "id": "ddf2aec3-548f-43ad-8278-82da6e489acb",
   "metadata": {},
   "outputs": [],
   "source": [
    "import pandas as pd\n",
    "import numpy as np\n",
    "import matplotlib as plt\n",
    "import seaborn as sns"
   ]
  },
  {
   "cell_type": "code",
   "execution_count": 65,
   "id": "a45a8813-1d56-4ed5-ac23-d60922484021",
   "metadata": {},
   "outputs": [
    {
     "data": {
      "text/html": [
       "<div>\n",
       "<style scoped>\n",
       "    .dataframe tbody tr th:only-of-type {\n",
       "        vertical-align: middle;\n",
       "    }\n",
       "\n",
       "    .dataframe tbody tr th {\n",
       "        vertical-align: top;\n",
       "    }\n",
       "\n",
       "    .dataframe thead th {\n",
       "        text-align: right;\n",
       "    }\n",
       "</style>\n",
       "<table border=\"1\" class=\"dataframe\">\n",
       "  <thead>\n",
       "    <tr style=\"text-align: right;\">\n",
       "      <th></th>\n",
       "      <th>RowId</th>\n",
       "      <th>YearStart</th>\n",
       "      <th>YearEnd</th>\n",
       "      <th>LocationAbbr</th>\n",
       "      <th>LocationDesc</th>\n",
       "      <th>Datasource</th>\n",
       "      <th>Class</th>\n",
       "      <th>Topic</th>\n",
       "      <th>Question</th>\n",
       "      <th>Data_Value_Unit</th>\n",
       "      <th>...</th>\n",
       "      <th>Stratification2</th>\n",
       "      <th>Geolocation</th>\n",
       "      <th>ClassID</th>\n",
       "      <th>TopicID</th>\n",
       "      <th>QuestionID</th>\n",
       "      <th>LocationID</th>\n",
       "      <th>StratificationCategoryID1</th>\n",
       "      <th>StratificationID1</th>\n",
       "      <th>StratificationCategoryID2</th>\n",
       "      <th>StratificationID2</th>\n",
       "    </tr>\n",
       "  </thead>\n",
       "  <tbody>\n",
       "    <tr>\n",
       "      <th>0</th>\n",
       "      <td>BRFSS~2022~2022~42~Q03~TMC01~AGE~RACE</td>\n",
       "      <td>2022</td>\n",
       "      <td>2022</td>\n",
       "      <td>PA</td>\n",
       "      <td>Pennsylvania</td>\n",
       "      <td>BRFSS</td>\n",
       "      <td>Mental Health</td>\n",
       "      <td>Frequent mental distress</td>\n",
       "      <td>Percentage of older adults who are experiencin...</td>\n",
       "      <td>%</td>\n",
       "      <td>...</td>\n",
       "      <td>Native Am/Alaskan Native</td>\n",
       "      <td>POINT (-77.86070029 40.79373015)</td>\n",
       "      <td>C05</td>\n",
       "      <td>TMC01</td>\n",
       "      <td>Q03</td>\n",
       "      <td>42</td>\n",
       "      <td>AGE</td>\n",
       "      <td>5064</td>\n",
       "      <td>RACE</td>\n",
       "      <td>NAA</td>\n",
       "    </tr>\n",
       "    <tr>\n",
       "      <th>1</th>\n",
       "      <td>BRFSS~2022~2022~46~Q03~TMC01~AGE~RACE</td>\n",
       "      <td>2022</td>\n",
       "      <td>2022</td>\n",
       "      <td>SD</td>\n",
       "      <td>South Dakota</td>\n",
       "      <td>BRFSS</td>\n",
       "      <td>Mental Health</td>\n",
       "      <td>Frequent mental distress</td>\n",
       "      <td>Percentage of older adults who are experiencin...</td>\n",
       "      <td>%</td>\n",
       "      <td>...</td>\n",
       "      <td>Asian/Pacific Islander</td>\n",
       "      <td>POINT (-100.3735306 44.35313005)</td>\n",
       "      <td>C05</td>\n",
       "      <td>TMC01</td>\n",
       "      <td>Q03</td>\n",
       "      <td>46</td>\n",
       "      <td>AGE</td>\n",
       "      <td>65PLUS</td>\n",
       "      <td>RACE</td>\n",
       "      <td>ASN</td>\n",
       "    </tr>\n",
       "    <tr>\n",
       "      <th>2</th>\n",
       "      <td>BRFSS~2022~2022~16~Q03~TMC01~AGE~RACE</td>\n",
       "      <td>2022</td>\n",
       "      <td>2022</td>\n",
       "      <td>ID</td>\n",
       "      <td>Idaho</td>\n",
       "      <td>BRFSS</td>\n",
       "      <td>Mental Health</td>\n",
       "      <td>Frequent mental distress</td>\n",
       "      <td>Percentage of older adults who are experiencin...</td>\n",
       "      <td>%</td>\n",
       "      <td>...</td>\n",
       "      <td>Black, non-Hispanic</td>\n",
       "      <td>POINT (-114.36373 43.68263001)</td>\n",
       "      <td>C05</td>\n",
       "      <td>TMC01</td>\n",
       "      <td>Q03</td>\n",
       "      <td>16</td>\n",
       "      <td>AGE</td>\n",
       "      <td>65PLUS</td>\n",
       "      <td>RACE</td>\n",
       "      <td>BLK</td>\n",
       "    </tr>\n",
       "    <tr>\n",
       "      <th>3</th>\n",
       "      <td>BRFSS~2022~2022~24~Q03~TMC01~AGE~RACE</td>\n",
       "      <td>2022</td>\n",
       "      <td>2022</td>\n",
       "      <td>MD</td>\n",
       "      <td>Maryland</td>\n",
       "      <td>BRFSS</td>\n",
       "      <td>Mental Health</td>\n",
       "      <td>Frequent mental distress</td>\n",
       "      <td>Percentage of older adults who are experiencin...</td>\n",
       "      <td>%</td>\n",
       "      <td>...</td>\n",
       "      <td>Black, non-Hispanic</td>\n",
       "      <td>POINT (-76.60926011 39.29058096)</td>\n",
       "      <td>C05</td>\n",
       "      <td>TMC01</td>\n",
       "      <td>Q03</td>\n",
       "      <td>24</td>\n",
       "      <td>AGE</td>\n",
       "      <td>65PLUS</td>\n",
       "      <td>RACE</td>\n",
       "      <td>BLK</td>\n",
       "    </tr>\n",
       "    <tr>\n",
       "      <th>4</th>\n",
       "      <td>BRFSS~2022~2022~55~Q03~TMC01~AGE~GENDER</td>\n",
       "      <td>2022</td>\n",
       "      <td>2022</td>\n",
       "      <td>WI</td>\n",
       "      <td>Wisconsin</td>\n",
       "      <td>BRFSS</td>\n",
       "      <td>Mental Health</td>\n",
       "      <td>Frequent mental distress</td>\n",
       "      <td>Percentage of older adults who are experiencin...</td>\n",
       "      <td>%</td>\n",
       "      <td>...</td>\n",
       "      <td>Male</td>\n",
       "      <td>POINT (-89.81637074 44.39319117)</td>\n",
       "      <td>C05</td>\n",
       "      <td>TMC01</td>\n",
       "      <td>Q03</td>\n",
       "      <td>55</td>\n",
       "      <td>AGE</td>\n",
       "      <td>65PLUS</td>\n",
       "      <td>GENDER</td>\n",
       "      <td>MALE</td>\n",
       "    </tr>\n",
       "    <tr>\n",
       "      <th>...</th>\n",
       "      <td>...</td>\n",
       "      <td>...</td>\n",
       "      <td>...</td>\n",
       "      <td>...</td>\n",
       "      <td>...</td>\n",
       "      <td>...</td>\n",
       "      <td>...</td>\n",
       "      <td>...</td>\n",
       "      <td>...</td>\n",
       "      <td>...</td>\n",
       "      <td>...</td>\n",
       "      <td>...</td>\n",
       "      <td>...</td>\n",
       "      <td>...</td>\n",
       "      <td>...</td>\n",
       "      <td>...</td>\n",
       "      <td>...</td>\n",
       "      <td>...</td>\n",
       "      <td>...</td>\n",
       "      <td>...</td>\n",
       "      <td>...</td>\n",
       "    </tr>\n",
       "    <tr>\n",
       "      <th>284137</th>\n",
       "      <td>BRFSS~2016~2016~55~Q15~TSC02~AGE~RACE</td>\n",
       "      <td>2016</td>\n",
       "      <td>2016</td>\n",
       "      <td>WI</td>\n",
       "      <td>Wisconsin</td>\n",
       "      <td>BRFSS</td>\n",
       "      <td>Screenings and Vaccines</td>\n",
       "      <td>Colorectal cancer screening</td>\n",
       "      <td>Percentage of older adults who had either a ho...</td>\n",
       "      <td>%</td>\n",
       "      <td>...</td>\n",
       "      <td>Black, non-Hispanic</td>\n",
       "      <td>POINT (-89.81637074 44.39319117)</td>\n",
       "      <td>C03</td>\n",
       "      <td>TSC02</td>\n",
       "      <td>Q15</td>\n",
       "      <td>55</td>\n",
       "      <td>AGE</td>\n",
       "      <td>AGE_OVERALL</td>\n",
       "      <td>RACE</td>\n",
       "      <td>BLK</td>\n",
       "    </tr>\n",
       "    <tr>\n",
       "      <th>284138</th>\n",
       "      <td>BRFSS~2017~2017~56~Q45~TOC13~AGE~RACE</td>\n",
       "      <td>2017</td>\n",
       "      <td>2017</td>\n",
       "      <td>WY</td>\n",
       "      <td>Wyoming</td>\n",
       "      <td>BRFSS</td>\n",
       "      <td>Overall Health</td>\n",
       "      <td>Fair or poor health among older adults with ar...</td>\n",
       "      <td>Fair or poor health among older adults with do...</td>\n",
       "      <td>%</td>\n",
       "      <td>...</td>\n",
       "      <td>Hispanic</td>\n",
       "      <td>POINT (-108.1098304 43.23554134)</td>\n",
       "      <td>C01</td>\n",
       "      <td>TOC13</td>\n",
       "      <td>Q45</td>\n",
       "      <td>56</td>\n",
       "      <td>AGE</td>\n",
       "      <td>5064</td>\n",
       "      <td>RACE</td>\n",
       "      <td>HIS</td>\n",
       "    </tr>\n",
       "    <tr>\n",
       "      <th>284139</th>\n",
       "      <td>BRFSS~2015~2015~56~Q42~TCC04~AGE~RACE</td>\n",
       "      <td>2015</td>\n",
       "      <td>2015</td>\n",
       "      <td>WY</td>\n",
       "      <td>Wyoming</td>\n",
       "      <td>BRFSS</td>\n",
       "      <td>Cognitive Decline</td>\n",
       "      <td>Talked with health care professional about sub...</td>\n",
       "      <td>Percentage of older adults with subjective cog...</td>\n",
       "      <td>%</td>\n",
       "      <td>...</td>\n",
       "      <td>Asian/Pacific Islander</td>\n",
       "      <td>POINT (-108.1098304 43.23554134)</td>\n",
       "      <td>C06</td>\n",
       "      <td>TCC04</td>\n",
       "      <td>Q42</td>\n",
       "      <td>56</td>\n",
       "      <td>AGE</td>\n",
       "      <td>AGE_OVERALL</td>\n",
       "      <td>RACE</td>\n",
       "      <td>ASN</td>\n",
       "    </tr>\n",
       "    <tr>\n",
       "      <th>284140</th>\n",
       "      <td>BRFSS~2019~2019~54~Q46~TOC10~AGE~RACE</td>\n",
       "      <td>2019</td>\n",
       "      <td>2019</td>\n",
       "      <td>WV</td>\n",
       "      <td>West Virginia</td>\n",
       "      <td>BRFSS</td>\n",
       "      <td>Overall Health</td>\n",
       "      <td>Disability status, including sensory or mobili...</td>\n",
       "      <td>Percentage of older adults who report having a...</td>\n",
       "      <td>%</td>\n",
       "      <td>...</td>\n",
       "      <td>Hispanic</td>\n",
       "      <td>POINT (-80.71264013 38.6655102)</td>\n",
       "      <td>C01</td>\n",
       "      <td>TOC10</td>\n",
       "      <td>Q46</td>\n",
       "      <td>54</td>\n",
       "      <td>AGE</td>\n",
       "      <td>65PLUS</td>\n",
       "      <td>RACE</td>\n",
       "      <td>HIS</td>\n",
       "    </tr>\n",
       "    <tr>\n",
       "      <th>284141</th>\n",
       "      <td>BRFSS~2015~2015~56~Q02~TNC02~AGE~RACE</td>\n",
       "      <td>2015</td>\n",
       "      <td>2015</td>\n",
       "      <td>WY</td>\n",
       "      <td>Wyoming</td>\n",
       "      <td>BRFSS</td>\n",
       "      <td>Nutrition/Physical Activity/Obesity</td>\n",
       "      <td>Eating 3 or more vegetables daily</td>\n",
       "      <td>Percentage of older adults who are eating 3 or...</td>\n",
       "      <td>%</td>\n",
       "      <td>...</td>\n",
       "      <td>Native Am/Alaskan Native</td>\n",
       "      <td>POINT (-108.1098304 43.23554134)</td>\n",
       "      <td>C02</td>\n",
       "      <td>TNC02</td>\n",
       "      <td>Q02</td>\n",
       "      <td>56</td>\n",
       "      <td>AGE</td>\n",
       "      <td>5064</td>\n",
       "      <td>RACE</td>\n",
       "      <td>NAA</td>\n",
       "    </tr>\n",
       "  </tbody>\n",
       "</table>\n",
       "<p>284142 rows × 31 columns</p>\n",
       "</div>"
      ],
      "text/plain": [
       "                                          RowId  YearStart  YearEnd  \\\n",
       "0         BRFSS~2022~2022~42~Q03~TMC01~AGE~RACE       2022     2022   \n",
       "1         BRFSS~2022~2022~46~Q03~TMC01~AGE~RACE       2022     2022   \n",
       "2         BRFSS~2022~2022~16~Q03~TMC01~AGE~RACE       2022     2022   \n",
       "3         BRFSS~2022~2022~24~Q03~TMC01~AGE~RACE       2022     2022   \n",
       "4       BRFSS~2022~2022~55~Q03~TMC01~AGE~GENDER       2022     2022   \n",
       "...                                         ...        ...      ...   \n",
       "284137    BRFSS~2016~2016~55~Q15~TSC02~AGE~RACE       2016     2016   \n",
       "284138    BRFSS~2017~2017~56~Q45~TOC13~AGE~RACE       2017     2017   \n",
       "284139    BRFSS~2015~2015~56~Q42~TCC04~AGE~RACE       2015     2015   \n",
       "284140    BRFSS~2019~2019~54~Q46~TOC10~AGE~RACE       2019     2019   \n",
       "284141    BRFSS~2015~2015~56~Q02~TNC02~AGE~RACE       2015     2015   \n",
       "\n",
       "       LocationAbbr   LocationDesc Datasource  \\\n",
       "0                PA   Pennsylvania      BRFSS   \n",
       "1                SD   South Dakota      BRFSS   \n",
       "2                ID          Idaho      BRFSS   \n",
       "3                MD       Maryland      BRFSS   \n",
       "4                WI      Wisconsin      BRFSS   \n",
       "...             ...            ...        ...   \n",
       "284137           WI      Wisconsin      BRFSS   \n",
       "284138           WY        Wyoming      BRFSS   \n",
       "284139           WY        Wyoming      BRFSS   \n",
       "284140           WV  West Virginia      BRFSS   \n",
       "284141           WY        Wyoming      BRFSS   \n",
       "\n",
       "                                      Class  \\\n",
       "0                             Mental Health   \n",
       "1                             Mental Health   \n",
       "2                             Mental Health   \n",
       "3                             Mental Health   \n",
       "4                             Mental Health   \n",
       "...                                     ...   \n",
       "284137              Screenings and Vaccines   \n",
       "284138                       Overall Health   \n",
       "284139                    Cognitive Decline   \n",
       "284140                       Overall Health   \n",
       "284141  Nutrition/Physical Activity/Obesity   \n",
       "\n",
       "                                                    Topic  \\\n",
       "0                                Frequent mental distress   \n",
       "1                                Frequent mental distress   \n",
       "2                                Frequent mental distress   \n",
       "3                                Frequent mental distress   \n",
       "4                                Frequent mental distress   \n",
       "...                                                   ...   \n",
       "284137                        Colorectal cancer screening   \n",
       "284138  Fair or poor health among older adults with ar...   \n",
       "284139  Talked with health care professional about sub...   \n",
       "284140  Disability status, including sensory or mobili...   \n",
       "284141                  Eating 3 or more vegetables daily   \n",
       "\n",
       "                                                 Question Data_Value_Unit  \\\n",
       "0       Percentage of older adults who are experiencin...               %   \n",
       "1       Percentage of older adults who are experiencin...               %   \n",
       "2       Percentage of older adults who are experiencin...               %   \n",
       "3       Percentage of older adults who are experiencin...               %   \n",
       "4       Percentage of older adults who are experiencin...               %   \n",
       "...                                                   ...             ...   \n",
       "284137  Percentage of older adults who had either a ho...               %   \n",
       "284138  Fair or poor health among older adults with do...               %   \n",
       "284139  Percentage of older adults with subjective cog...               %   \n",
       "284140  Percentage of older adults who report having a...               %   \n",
       "284141  Percentage of older adults who are eating 3 or...               %   \n",
       "\n",
       "        ...           Stratification2                       Geolocation  \\\n",
       "0       ...  Native Am/Alaskan Native  POINT (-77.86070029 40.79373015)   \n",
       "1       ...    Asian/Pacific Islander  POINT (-100.3735306 44.35313005)   \n",
       "2       ...       Black, non-Hispanic    POINT (-114.36373 43.68263001)   \n",
       "3       ...       Black, non-Hispanic  POINT (-76.60926011 39.29058096)   \n",
       "4       ...                      Male  POINT (-89.81637074 44.39319117)   \n",
       "...     ...                       ...                               ...   \n",
       "284137  ...       Black, non-Hispanic  POINT (-89.81637074 44.39319117)   \n",
       "284138  ...                  Hispanic  POINT (-108.1098304 43.23554134)   \n",
       "284139  ...    Asian/Pacific Islander  POINT (-108.1098304 43.23554134)   \n",
       "284140  ...                  Hispanic   POINT (-80.71264013 38.6655102)   \n",
       "284141  ...  Native Am/Alaskan Native  POINT (-108.1098304 43.23554134)   \n",
       "\n",
       "        ClassID  TopicID QuestionID LocationID  StratificationCategoryID1  \\\n",
       "0           C05    TMC01        Q03         42                        AGE   \n",
       "1           C05    TMC01        Q03         46                        AGE   \n",
       "2           C05    TMC01        Q03         16                        AGE   \n",
       "3           C05    TMC01        Q03         24                        AGE   \n",
       "4           C05    TMC01        Q03         55                        AGE   \n",
       "...         ...      ...        ...        ...                        ...   \n",
       "284137      C03    TSC02        Q15         55                        AGE   \n",
       "284138      C01    TOC13        Q45         56                        AGE   \n",
       "284139      C06    TCC04        Q42         56                        AGE   \n",
       "284140      C01    TOC10        Q46         54                        AGE   \n",
       "284141      C02    TNC02        Q02         56                        AGE   \n",
       "\n",
       "        StratificationID1 StratificationCategoryID2 StratificationID2  \n",
       "0                    5064                      RACE               NAA  \n",
       "1                  65PLUS                      RACE               ASN  \n",
       "2                  65PLUS                      RACE               BLK  \n",
       "3                  65PLUS                      RACE               BLK  \n",
       "4                  65PLUS                    GENDER              MALE  \n",
       "...                   ...                       ...               ...  \n",
       "284137        AGE_OVERALL                      RACE               BLK  \n",
       "284138               5064                      RACE               HIS  \n",
       "284139        AGE_OVERALL                      RACE               ASN  \n",
       "284140             65PLUS                      RACE               HIS  \n",
       "284141               5064                      RACE               NAA  \n",
       "\n",
       "[284142 rows x 31 columns]"
      ]
     },
     "execution_count": 65,
     "metadata": {},
     "output_type": "execute_result"
    }
   ],
   "source": [
    "alzheimer=pd.read_csv('/home/oem/machine_learning_jupyter/Alzheimer_s_Disease_and_Healthy_Aging_Data.csv')\n",
    "alzheimer"
   ]
  },
  {
   "cell_type": "code",
   "execution_count": 7,
   "id": "7135c397-8a95-4109-bcf1-b6d29eb1ad54",
   "metadata": {},
   "outputs": [
    {
     "data": {
      "text/html": [
       "<div>\n",
       "<style scoped>\n",
       "    .dataframe tbody tr th:only-of-type {\n",
       "        vertical-align: middle;\n",
       "    }\n",
       "\n",
       "    .dataframe tbody tr th {\n",
       "        vertical-align: top;\n",
       "    }\n",
       "\n",
       "    .dataframe thead th {\n",
       "        text-align: right;\n",
       "    }\n",
       "</style>\n",
       "<table border=\"1\" class=\"dataframe\">\n",
       "  <thead>\n",
       "    <tr style=\"text-align: right;\">\n",
       "      <th></th>\n",
       "      <th>RowId</th>\n",
       "      <th>YearStart</th>\n",
       "      <th>YearEnd</th>\n",
       "      <th>LocationAbbr</th>\n",
       "      <th>LocationDesc</th>\n",
       "      <th>Datasource</th>\n",
       "      <th>Class</th>\n",
       "      <th>Topic</th>\n",
       "      <th>Question</th>\n",
       "      <th>Data_Value_Unit</th>\n",
       "      <th>...</th>\n",
       "      <th>Stratification2</th>\n",
       "      <th>Geolocation</th>\n",
       "      <th>ClassID</th>\n",
       "      <th>TopicID</th>\n",
       "      <th>QuestionID</th>\n",
       "      <th>LocationID</th>\n",
       "      <th>StratificationCategoryID1</th>\n",
       "      <th>StratificationID1</th>\n",
       "      <th>StratificationCategoryID2</th>\n",
       "      <th>StratificationID2</th>\n",
       "    </tr>\n",
       "  </thead>\n",
       "  <tbody>\n",
       "    <tr>\n",
       "      <th>0</th>\n",
       "      <td>BRFSS~2022~2022~42~Q03~TMC01~AGE~RACE</td>\n",
       "      <td>2022</td>\n",
       "      <td>2022</td>\n",
       "      <td>PA</td>\n",
       "      <td>Pennsylvania</td>\n",
       "      <td>BRFSS</td>\n",
       "      <td>Mental Health</td>\n",
       "      <td>Frequent mental distress</td>\n",
       "      <td>Percentage of older adults who are experiencin...</td>\n",
       "      <td>%</td>\n",
       "      <td>...</td>\n",
       "      <td>Native Am/Alaskan Native</td>\n",
       "      <td>POINT (-77.86070029 40.79373015)</td>\n",
       "      <td>C05</td>\n",
       "      <td>TMC01</td>\n",
       "      <td>Q03</td>\n",
       "      <td>42</td>\n",
       "      <td>AGE</td>\n",
       "      <td>5064</td>\n",
       "      <td>RACE</td>\n",
       "      <td>NAA</td>\n",
       "    </tr>\n",
       "    <tr>\n",
       "      <th>1</th>\n",
       "      <td>BRFSS~2022~2022~46~Q03~TMC01~AGE~RACE</td>\n",
       "      <td>2022</td>\n",
       "      <td>2022</td>\n",
       "      <td>SD</td>\n",
       "      <td>South Dakota</td>\n",
       "      <td>BRFSS</td>\n",
       "      <td>Mental Health</td>\n",
       "      <td>Frequent mental distress</td>\n",
       "      <td>Percentage of older adults who are experiencin...</td>\n",
       "      <td>%</td>\n",
       "      <td>...</td>\n",
       "      <td>Asian/Pacific Islander</td>\n",
       "      <td>POINT (-100.3735306 44.35313005)</td>\n",
       "      <td>C05</td>\n",
       "      <td>TMC01</td>\n",
       "      <td>Q03</td>\n",
       "      <td>46</td>\n",
       "      <td>AGE</td>\n",
       "      <td>65PLUS</td>\n",
       "      <td>RACE</td>\n",
       "      <td>ASN</td>\n",
       "    </tr>\n",
       "    <tr>\n",
       "      <th>2</th>\n",
       "      <td>BRFSS~2022~2022~16~Q03~TMC01~AGE~RACE</td>\n",
       "      <td>2022</td>\n",
       "      <td>2022</td>\n",
       "      <td>ID</td>\n",
       "      <td>Idaho</td>\n",
       "      <td>BRFSS</td>\n",
       "      <td>Mental Health</td>\n",
       "      <td>Frequent mental distress</td>\n",
       "      <td>Percentage of older adults who are experiencin...</td>\n",
       "      <td>%</td>\n",
       "      <td>...</td>\n",
       "      <td>Black, non-Hispanic</td>\n",
       "      <td>POINT (-114.36373 43.68263001)</td>\n",
       "      <td>C05</td>\n",
       "      <td>TMC01</td>\n",
       "      <td>Q03</td>\n",
       "      <td>16</td>\n",
       "      <td>AGE</td>\n",
       "      <td>65PLUS</td>\n",
       "      <td>RACE</td>\n",
       "      <td>BLK</td>\n",
       "    </tr>\n",
       "    <tr>\n",
       "      <th>3</th>\n",
       "      <td>BRFSS~2022~2022~24~Q03~TMC01~AGE~RACE</td>\n",
       "      <td>2022</td>\n",
       "      <td>2022</td>\n",
       "      <td>MD</td>\n",
       "      <td>Maryland</td>\n",
       "      <td>BRFSS</td>\n",
       "      <td>Mental Health</td>\n",
       "      <td>Frequent mental distress</td>\n",
       "      <td>Percentage of older adults who are experiencin...</td>\n",
       "      <td>%</td>\n",
       "      <td>...</td>\n",
       "      <td>Black, non-Hispanic</td>\n",
       "      <td>POINT (-76.60926011 39.29058096)</td>\n",
       "      <td>C05</td>\n",
       "      <td>TMC01</td>\n",
       "      <td>Q03</td>\n",
       "      <td>24</td>\n",
       "      <td>AGE</td>\n",
       "      <td>65PLUS</td>\n",
       "      <td>RACE</td>\n",
       "      <td>BLK</td>\n",
       "    </tr>\n",
       "    <tr>\n",
       "      <th>4</th>\n",
       "      <td>BRFSS~2022~2022~55~Q03~TMC01~AGE~GENDER</td>\n",
       "      <td>2022</td>\n",
       "      <td>2022</td>\n",
       "      <td>WI</td>\n",
       "      <td>Wisconsin</td>\n",
       "      <td>BRFSS</td>\n",
       "      <td>Mental Health</td>\n",
       "      <td>Frequent mental distress</td>\n",
       "      <td>Percentage of older adults who are experiencin...</td>\n",
       "      <td>%</td>\n",
       "      <td>...</td>\n",
       "      <td>Male</td>\n",
       "      <td>POINT (-89.81637074 44.39319117)</td>\n",
       "      <td>C05</td>\n",
       "      <td>TMC01</td>\n",
       "      <td>Q03</td>\n",
       "      <td>55</td>\n",
       "      <td>AGE</td>\n",
       "      <td>65PLUS</td>\n",
       "      <td>GENDER</td>\n",
       "      <td>MALE</td>\n",
       "    </tr>\n",
       "    <tr>\n",
       "      <th>...</th>\n",
       "      <td>...</td>\n",
       "      <td>...</td>\n",
       "      <td>...</td>\n",
       "      <td>...</td>\n",
       "      <td>...</td>\n",
       "      <td>...</td>\n",
       "      <td>...</td>\n",
       "      <td>...</td>\n",
       "      <td>...</td>\n",
       "      <td>...</td>\n",
       "      <td>...</td>\n",
       "      <td>...</td>\n",
       "      <td>...</td>\n",
       "      <td>...</td>\n",
       "      <td>...</td>\n",
       "      <td>...</td>\n",
       "      <td>...</td>\n",
       "      <td>...</td>\n",
       "      <td>...</td>\n",
       "      <td>...</td>\n",
       "      <td>...</td>\n",
       "    </tr>\n",
       "    <tr>\n",
       "      <th>284137</th>\n",
       "      <td>BRFSS~2016~2016~55~Q15~TSC02~AGE~RACE</td>\n",
       "      <td>2016</td>\n",
       "      <td>2016</td>\n",
       "      <td>WI</td>\n",
       "      <td>Wisconsin</td>\n",
       "      <td>BRFSS</td>\n",
       "      <td>Screenings and Vaccines</td>\n",
       "      <td>Colorectal cancer screening</td>\n",
       "      <td>Percentage of older adults who had either a ho...</td>\n",
       "      <td>%</td>\n",
       "      <td>...</td>\n",
       "      <td>Black, non-Hispanic</td>\n",
       "      <td>POINT (-89.81637074 44.39319117)</td>\n",
       "      <td>C03</td>\n",
       "      <td>TSC02</td>\n",
       "      <td>Q15</td>\n",
       "      <td>55</td>\n",
       "      <td>AGE</td>\n",
       "      <td>AGE_OVERALL</td>\n",
       "      <td>RACE</td>\n",
       "      <td>BLK</td>\n",
       "    </tr>\n",
       "    <tr>\n",
       "      <th>284138</th>\n",
       "      <td>BRFSS~2017~2017~56~Q45~TOC13~AGE~RACE</td>\n",
       "      <td>2017</td>\n",
       "      <td>2017</td>\n",
       "      <td>WY</td>\n",
       "      <td>Wyoming</td>\n",
       "      <td>BRFSS</td>\n",
       "      <td>Overall Health</td>\n",
       "      <td>Fair or poor health among older adults with ar...</td>\n",
       "      <td>Fair or poor health among older adults with do...</td>\n",
       "      <td>%</td>\n",
       "      <td>...</td>\n",
       "      <td>Hispanic</td>\n",
       "      <td>POINT (-108.1098304 43.23554134)</td>\n",
       "      <td>C01</td>\n",
       "      <td>TOC13</td>\n",
       "      <td>Q45</td>\n",
       "      <td>56</td>\n",
       "      <td>AGE</td>\n",
       "      <td>5064</td>\n",
       "      <td>RACE</td>\n",
       "      <td>HIS</td>\n",
       "    </tr>\n",
       "    <tr>\n",
       "      <th>284139</th>\n",
       "      <td>BRFSS~2015~2015~56~Q42~TCC04~AGE~RACE</td>\n",
       "      <td>2015</td>\n",
       "      <td>2015</td>\n",
       "      <td>WY</td>\n",
       "      <td>Wyoming</td>\n",
       "      <td>BRFSS</td>\n",
       "      <td>Cognitive Decline</td>\n",
       "      <td>Talked with health care professional about sub...</td>\n",
       "      <td>Percentage of older adults with subjective cog...</td>\n",
       "      <td>%</td>\n",
       "      <td>...</td>\n",
       "      <td>Asian/Pacific Islander</td>\n",
       "      <td>POINT (-108.1098304 43.23554134)</td>\n",
       "      <td>C06</td>\n",
       "      <td>TCC04</td>\n",
       "      <td>Q42</td>\n",
       "      <td>56</td>\n",
       "      <td>AGE</td>\n",
       "      <td>AGE_OVERALL</td>\n",
       "      <td>RACE</td>\n",
       "      <td>ASN</td>\n",
       "    </tr>\n",
       "    <tr>\n",
       "      <th>284140</th>\n",
       "      <td>BRFSS~2019~2019~54~Q46~TOC10~AGE~RACE</td>\n",
       "      <td>2019</td>\n",
       "      <td>2019</td>\n",
       "      <td>WV</td>\n",
       "      <td>West Virginia</td>\n",
       "      <td>BRFSS</td>\n",
       "      <td>Overall Health</td>\n",
       "      <td>Disability status, including sensory or mobili...</td>\n",
       "      <td>Percentage of older adults who report having a...</td>\n",
       "      <td>%</td>\n",
       "      <td>...</td>\n",
       "      <td>Hispanic</td>\n",
       "      <td>POINT (-80.71264013 38.6655102)</td>\n",
       "      <td>C01</td>\n",
       "      <td>TOC10</td>\n",
       "      <td>Q46</td>\n",
       "      <td>54</td>\n",
       "      <td>AGE</td>\n",
       "      <td>65PLUS</td>\n",
       "      <td>RACE</td>\n",
       "      <td>HIS</td>\n",
       "    </tr>\n",
       "    <tr>\n",
       "      <th>284141</th>\n",
       "      <td>BRFSS~2015~2015~56~Q02~TNC02~AGE~RACE</td>\n",
       "      <td>2015</td>\n",
       "      <td>2015</td>\n",
       "      <td>WY</td>\n",
       "      <td>Wyoming</td>\n",
       "      <td>BRFSS</td>\n",
       "      <td>Nutrition/Physical Activity/Obesity</td>\n",
       "      <td>Eating 3 or more vegetables daily</td>\n",
       "      <td>Percentage of older adults who are eating 3 or...</td>\n",
       "      <td>%</td>\n",
       "      <td>...</td>\n",
       "      <td>Native Am/Alaskan Native</td>\n",
       "      <td>POINT (-108.1098304 43.23554134)</td>\n",
       "      <td>C02</td>\n",
       "      <td>TNC02</td>\n",
       "      <td>Q02</td>\n",
       "      <td>56</td>\n",
       "      <td>AGE</td>\n",
       "      <td>5064</td>\n",
       "      <td>RACE</td>\n",
       "      <td>NAA</td>\n",
       "    </tr>\n",
       "  </tbody>\n",
       "</table>\n",
       "<p>284142 rows × 31 columns</p>\n",
       "</div>"
      ],
      "text/plain": [
       "                                          RowId  YearStart  YearEnd  \\\n",
       "0         BRFSS~2022~2022~42~Q03~TMC01~AGE~RACE       2022     2022   \n",
       "1         BRFSS~2022~2022~46~Q03~TMC01~AGE~RACE       2022     2022   \n",
       "2         BRFSS~2022~2022~16~Q03~TMC01~AGE~RACE       2022     2022   \n",
       "3         BRFSS~2022~2022~24~Q03~TMC01~AGE~RACE       2022     2022   \n",
       "4       BRFSS~2022~2022~55~Q03~TMC01~AGE~GENDER       2022     2022   \n",
       "...                                         ...        ...      ...   \n",
       "284137    BRFSS~2016~2016~55~Q15~TSC02~AGE~RACE       2016     2016   \n",
       "284138    BRFSS~2017~2017~56~Q45~TOC13~AGE~RACE       2017     2017   \n",
       "284139    BRFSS~2015~2015~56~Q42~TCC04~AGE~RACE       2015     2015   \n",
       "284140    BRFSS~2019~2019~54~Q46~TOC10~AGE~RACE       2019     2019   \n",
       "284141    BRFSS~2015~2015~56~Q02~TNC02~AGE~RACE       2015     2015   \n",
       "\n",
       "       LocationAbbr   LocationDesc Datasource  \\\n",
       "0                PA   Pennsylvania      BRFSS   \n",
       "1                SD   South Dakota      BRFSS   \n",
       "2                ID          Idaho      BRFSS   \n",
       "3                MD       Maryland      BRFSS   \n",
       "4                WI      Wisconsin      BRFSS   \n",
       "...             ...            ...        ...   \n",
       "284137           WI      Wisconsin      BRFSS   \n",
       "284138           WY        Wyoming      BRFSS   \n",
       "284139           WY        Wyoming      BRFSS   \n",
       "284140           WV  West Virginia      BRFSS   \n",
       "284141           WY        Wyoming      BRFSS   \n",
       "\n",
       "                                      Class  \\\n",
       "0                             Mental Health   \n",
       "1                             Mental Health   \n",
       "2                             Mental Health   \n",
       "3                             Mental Health   \n",
       "4                             Mental Health   \n",
       "...                                     ...   \n",
       "284137              Screenings and Vaccines   \n",
       "284138                       Overall Health   \n",
       "284139                    Cognitive Decline   \n",
       "284140                       Overall Health   \n",
       "284141  Nutrition/Physical Activity/Obesity   \n",
       "\n",
       "                                                    Topic  \\\n",
       "0                                Frequent mental distress   \n",
       "1                                Frequent mental distress   \n",
       "2                                Frequent mental distress   \n",
       "3                                Frequent mental distress   \n",
       "4                                Frequent mental distress   \n",
       "...                                                   ...   \n",
       "284137                        Colorectal cancer screening   \n",
       "284138  Fair or poor health among older adults with ar...   \n",
       "284139  Talked with health care professional about sub...   \n",
       "284140  Disability status, including sensory or mobili...   \n",
       "284141                  Eating 3 or more vegetables daily   \n",
       "\n",
       "                                                 Question Data_Value_Unit  \\\n",
       "0       Percentage of older adults who are experiencin...               %   \n",
       "1       Percentage of older adults who are experiencin...               %   \n",
       "2       Percentage of older adults who are experiencin...               %   \n",
       "3       Percentage of older adults who are experiencin...               %   \n",
       "4       Percentage of older adults who are experiencin...               %   \n",
       "...                                                   ...             ...   \n",
       "284137  Percentage of older adults who had either a ho...               %   \n",
       "284138  Fair or poor health among older adults with do...               %   \n",
       "284139  Percentage of older adults with subjective cog...               %   \n",
       "284140  Percentage of older adults who report having a...               %   \n",
       "284141  Percentage of older adults who are eating 3 or...               %   \n",
       "\n",
       "        ...           Stratification2                       Geolocation  \\\n",
       "0       ...  Native Am/Alaskan Native  POINT (-77.86070029 40.79373015)   \n",
       "1       ...    Asian/Pacific Islander  POINT (-100.3735306 44.35313005)   \n",
       "2       ...       Black, non-Hispanic    POINT (-114.36373 43.68263001)   \n",
       "3       ...       Black, non-Hispanic  POINT (-76.60926011 39.29058096)   \n",
       "4       ...                      Male  POINT (-89.81637074 44.39319117)   \n",
       "...     ...                       ...                               ...   \n",
       "284137  ...       Black, non-Hispanic  POINT (-89.81637074 44.39319117)   \n",
       "284138  ...                  Hispanic  POINT (-108.1098304 43.23554134)   \n",
       "284139  ...    Asian/Pacific Islander  POINT (-108.1098304 43.23554134)   \n",
       "284140  ...                  Hispanic   POINT (-80.71264013 38.6655102)   \n",
       "284141  ...  Native Am/Alaskan Native  POINT (-108.1098304 43.23554134)   \n",
       "\n",
       "        ClassID  TopicID QuestionID LocationID  StratificationCategoryID1  \\\n",
       "0           C05    TMC01        Q03         42                        AGE   \n",
       "1           C05    TMC01        Q03         46                        AGE   \n",
       "2           C05    TMC01        Q03         16                        AGE   \n",
       "3           C05    TMC01        Q03         24                        AGE   \n",
       "4           C05    TMC01        Q03         55                        AGE   \n",
       "...         ...      ...        ...        ...                        ...   \n",
       "284137      C03    TSC02        Q15         55                        AGE   \n",
       "284138      C01    TOC13        Q45         56                        AGE   \n",
       "284139      C06    TCC04        Q42         56                        AGE   \n",
       "284140      C01    TOC10        Q46         54                        AGE   \n",
       "284141      C02    TNC02        Q02         56                        AGE   \n",
       "\n",
       "        StratificationID1 StratificationCategoryID2 StratificationID2  \n",
       "0                    5064                      RACE               NAA  \n",
       "1                  65PLUS                      RACE               ASN  \n",
       "2                  65PLUS                      RACE               BLK  \n",
       "3                  65PLUS                      RACE               BLK  \n",
       "4                  65PLUS                    GENDER              MALE  \n",
       "...                   ...                       ...               ...  \n",
       "284137        AGE_OVERALL                      RACE               BLK  \n",
       "284138               5064                      RACE               HIS  \n",
       "284139        AGE_OVERALL                      RACE               ASN  \n",
       "284140             65PLUS                      RACE               HIS  \n",
       "284141               5064                      RACE               NAA  \n",
       "\n",
       "[284142 rows x 31 columns]"
      ]
     },
     "execution_count": 7,
     "metadata": {},
     "output_type": "execute_result"
    }
   ],
   "source": []
  },
  {
   "cell_type": "code",
   "execution_count": 8,
   "id": "218284ca-db77-440a-9139-d5cea52475b2",
   "metadata": {},
   "outputs": [
    {
     "data": {
      "text/plain": [
       "RowId                              0\n",
       "YearStart                          0\n",
       "YearEnd                            0\n",
       "LocationAbbr                       0\n",
       "LocationDesc                       0\n",
       "Datasource                         0\n",
       "Class                              0\n",
       "Topic                              0\n",
       "Question                           0\n",
       "Data_Value_Unit                    0\n",
       "DataValueTypeID                    0\n",
       "Data_Value_Type                    0\n",
       "Data_Value                     91334\n",
       "Data_Value_Alt                 91334\n",
       "Data_Value_Footnote_Symbol    174166\n",
       "Data_Value_Footnote           174166\n",
       "Low_Confidence_Limit           91545\n",
       "High_Confidence_Limit          91545\n",
       "StratificationCategory1            0\n",
       "Stratification1                    0\n",
       "StratificationCategory2        36873\n",
       "Stratification2                36873\n",
       "Geolocation                    30489\n",
       "ClassID                            0\n",
       "TopicID                            0\n",
       "QuestionID                         0\n",
       "LocationID                         0\n",
       "StratificationCategoryID1          0\n",
       "StratificationID1                  0\n",
       "StratificationCategoryID2          0\n",
       "StratificationID2                  0\n",
       "dtype: int64"
      ]
     },
     "execution_count": 8,
     "metadata": {},
     "output_type": "execute_result"
    }
   ],
   "source": [
    "alzheimer.isnull().sum()"
   ]
  },
  {
   "cell_type": "code",
   "execution_count": 15,
   "id": "ab73a552-a72e-4267-b5c6-2a77cb106174",
   "metadata": {},
   "outputs": [
    {
     "data": {
      "text/plain": [
       "StratificationCategory2\n",
       "False    247269\n",
       "True      36873\n",
       "Name: count, dtype: int64"
      ]
     },
     "execution_count": 15,
     "metadata": {},
     "output_type": "execute_result"
    }
   ],
   "source": [
    "alzheimer['StratificationCategory2'].isnull().value_counts()"
   ]
  },
  {
   "cell_type": "code",
   "execution_count": 16,
   "id": "0ac25dde-8276-438d-9fae-687cedb2fec7",
   "metadata": {},
   "outputs": [
    {
     "data": {
      "text/plain": [
       "RowId\n",
       "False    284142\n",
       "Name: count, dtype: int64"
      ]
     },
     "execution_count": 16,
     "metadata": {},
     "output_type": "execute_result"
    }
   ],
   "source": [
    "alzheimer['RowId'].isnull().value_counts()"
   ]
  },
  {
   "cell_type": "code",
   "execution_count": 17,
   "id": "fcd07202-8d8f-4d98-bdeb-402ac01abffb",
   "metadata": {},
   "outputs": [
    {
     "data": {
      "text/plain": [
       "YearStart\n",
       "False    284142\n",
       "Name: count, dtype: int64"
      ]
     },
     "execution_count": 17,
     "metadata": {},
     "output_type": "execute_result"
    }
   ],
   "source": [
    "alzheimer['YearStart'].isnull().value_counts()"
   ]
  },
  {
   "cell_type": "code",
   "execution_count": 18,
   "id": "4cbb8db7-9d91-4a6f-9fd2-2c762dc89a59",
   "metadata": {},
   "outputs": [
    {
     "data": {
      "text/plain": [
       "YearEnd\n",
       "False    284142\n",
       "Name: count, dtype: int64"
      ]
     },
     "execution_count": 18,
     "metadata": {},
     "output_type": "execute_result"
    }
   ],
   "source": [
    "alzheimer['YearEnd'].isnull().value_counts()"
   ]
  },
  {
   "cell_type": "code",
   "execution_count": 19,
   "id": "264dbc0d-d108-4426-9583-ed586da50fc8",
   "metadata": {},
   "outputs": [
    {
     "data": {
      "text/plain": [
       "LocationAbbr\n",
       "False    284142\n",
       "Name: count, dtype: int64"
      ]
     },
     "execution_count": 19,
     "metadata": {},
     "output_type": "execute_result"
    }
   ],
   "source": [
    "alzheimer['LocationAbbr'].isnull().value_counts()"
   ]
  },
  {
   "cell_type": "code",
   "execution_count": 20,
   "id": "d74168c8-936c-44e8-81eb-d4a926d6dde6",
   "metadata": {},
   "outputs": [
    {
     "data": {
      "text/plain": [
       "LocationDesc\n",
       "False    284142\n",
       "Name: count, dtype: int64"
      ]
     },
     "execution_count": 20,
     "metadata": {},
     "output_type": "execute_result"
    }
   ],
   "source": [
    "alzheimer['LocationDesc'].isnull().value_counts()"
   ]
  },
  {
   "cell_type": "code",
   "execution_count": 21,
   "id": "0e79507a-4ed1-475b-856c-c72619cefee7",
   "metadata": {},
   "outputs": [
    {
     "data": {
      "text/plain": [
       "Datasource\n",
       "False    284142\n",
       "Name: count, dtype: int64"
      ]
     },
     "execution_count": 21,
     "metadata": {},
     "output_type": "execute_result"
    }
   ],
   "source": [
    "alzheimer['Datasource'].isnull().value_counts()"
   ]
  },
  {
   "cell_type": "code",
   "execution_count": 22,
   "id": "6f148143-1435-43bc-bdce-8c737730309f",
   "metadata": {},
   "outputs": [
    {
     "data": {
      "text/plain": [
       "Class\n",
       "False    284142\n",
       "Name: count, dtype: int64"
      ]
     },
     "execution_count": 22,
     "metadata": {},
     "output_type": "execute_result"
    }
   ],
   "source": [
    "alzheimer['Class'].isnull().value_counts()"
   ]
  },
  {
   "cell_type": "code",
   "execution_count": 23,
   "id": "b284debd-8bc8-43ae-aafa-6770503a3f35",
   "metadata": {},
   "outputs": [
    {
     "data": {
      "text/plain": [
       "Topic\n",
       "False    284142\n",
       "Name: count, dtype: int64"
      ]
     },
     "execution_count": 23,
     "metadata": {},
     "output_type": "execute_result"
    }
   ],
   "source": [
    "alzheimer['Topic'].isnull().value_counts()"
   ]
  },
  {
   "cell_type": "code",
   "execution_count": 24,
   "id": "b47fb1a4-a2da-4e6c-9081-efe56f1e2a49",
   "metadata": {},
   "outputs": [
    {
     "data": {
      "text/plain": [
       "Question\n",
       "False    284142\n",
       "Name: count, dtype: int64"
      ]
     },
     "execution_count": 24,
     "metadata": {},
     "output_type": "execute_result"
    }
   ],
   "source": [
    "alzheimer['Question'].isnull().value_counts()"
   ]
  },
  {
   "cell_type": "code",
   "execution_count": 25,
   "id": "4ecef731-efec-44e5-9651-a9ee07243366",
   "metadata": {},
   "outputs": [
    {
     "data": {
      "text/plain": [
       "Data_Value_Unit\n",
       "False    284142\n",
       "Name: count, dtype: int64"
      ]
     },
     "execution_count": 25,
     "metadata": {},
     "output_type": "execute_result"
    }
   ],
   "source": [
    "alzheimer['Data_Value_Unit'].isnull().value_counts()"
   ]
  },
  {
   "cell_type": "code",
   "execution_count": 26,
   "id": "e51cec0c-f7ac-42ea-b6ee-73b4849b3119",
   "metadata": {},
   "outputs": [
    {
     "data": {
      "text/plain": [
       "DataValueTypeID\n",
       "False    284142\n",
       "Name: count, dtype: int64"
      ]
     },
     "execution_count": 26,
     "metadata": {},
     "output_type": "execute_result"
    }
   ],
   "source": [
    "alzheimer['DataValueTypeID'].isnull().value_counts()"
   ]
  },
  {
   "cell_type": "code",
   "execution_count": 27,
   "id": "6094104e-58b8-42f5-b69e-4cacdecdf48e",
   "metadata": {},
   "outputs": [
    {
     "data": {
      "text/plain": [
       "Data_Value_Type\n",
       "False    284142\n",
       "Name: count, dtype: int64"
      ]
     },
     "execution_count": 27,
     "metadata": {},
     "output_type": "execute_result"
    }
   ],
   "source": [
    "alzheimer['Data_Value_Type'].isnull().value_counts()"
   ]
  },
  {
   "cell_type": "code",
   "execution_count": 28,
   "id": "a75aa85a-6e78-4be9-ab00-82b8c2583b46",
   "metadata": {},
   "outputs": [
    {
     "data": {
      "text/plain": [
       "Data_Value\n",
       "False    284139\n",
       "True          3\n",
       "Name: count, dtype: int64"
      ]
     },
     "execution_count": 28,
     "metadata": {},
     "output_type": "execute_result"
    }
   ],
   "source": [
    "alzheimer['Data_Value'].isnull().value_counts()"
   ]
  },
  {
   "cell_type": "code",
   "execution_count": 29,
   "id": "ad4d2e0d-1d9c-4a52-89ef-7f8d8d62188f",
   "metadata": {},
   "outputs": [
    {
     "data": {
      "text/plain": [
       "Data_Value_Alt\n",
       "False    192808\n",
       "True      91334\n",
       "Name: count, dtype: int64"
      ]
     },
     "execution_count": 29,
     "metadata": {},
     "output_type": "execute_result"
    }
   ],
   "source": [
    "alzheimer['Data_Value_Alt'].isnull().value_counts()"
   ]
  },
  {
   "cell_type": "code",
   "execution_count": 30,
   "id": "f364f1fd-403e-498b-a420-8a4a4b616246",
   "metadata": {},
   "outputs": [
    {
     "data": {
      "text/plain": [
       "Data_Value_Footnote_Symbol\n",
       "True     174166\n",
       "False    109976\n",
       "Name: count, dtype: int64"
      ]
     },
     "execution_count": 30,
     "metadata": {},
     "output_type": "execute_result"
    }
   ],
   "source": [
    "alzheimer['Data_Value_Footnote_Symbol'].isnull().value_counts()"
   ]
  },
  {
   "cell_type": "code",
   "execution_count": 32,
   "id": "bb0d1317-ece6-453e-aa33-6d70b63982ba",
   "metadata": {},
   "outputs": [
    {
     "data": {
      "text/plain": [
       "Data_Value_Footnote\n",
       "True     174166\n",
       "False    109976\n",
       "Name: count, dtype: int64"
      ]
     },
     "execution_count": 32,
     "metadata": {},
     "output_type": "execute_result"
    }
   ],
   "source": [
    "alzheimer['Data_Value_Footnote'].isnull().value_counts()"
   ]
  },
  {
   "cell_type": "code",
   "execution_count": 33,
   "id": "19c49c5b-cda5-4343-9b2e-d43e86262409",
   "metadata": {},
   "outputs": [
    {
     "data": {
      "text/plain": [
       "Low_Confidence_Limit\n",
       "False    192597\n",
       "True      91545\n",
       "Name: count, dtype: int64"
      ]
     },
     "execution_count": 33,
     "metadata": {},
     "output_type": "execute_result"
    }
   ],
   "source": [
    "alzheimer['Low_Confidence_Limit'].isnull().value_counts()"
   ]
  },
  {
   "cell_type": "code",
   "execution_count": 34,
   "id": "7e375afd-3323-4199-b8cb-0c6920c9d340",
   "metadata": {},
   "outputs": [
    {
     "data": {
      "text/plain": [
       "High_Confidence_Limit\n",
       "False    192597\n",
       "True      91545\n",
       "Name: count, dtype: int64"
      ]
     },
     "execution_count": 34,
     "metadata": {},
     "output_type": "execute_result"
    }
   ],
   "source": [
    "alzheimer['High_Confidence_Limit'].isnull().value_counts()"
   ]
  },
  {
   "cell_type": "code",
   "execution_count": 35,
   "id": "2b87c5d2-ee0b-43e9-8488-7cc32c2a8108",
   "metadata": {},
   "outputs": [
    {
     "data": {
      "text/plain": [
       "StratificationCategory1\n",
       "False    284142\n",
       "Name: count, dtype: int64"
      ]
     },
     "execution_count": 35,
     "metadata": {},
     "output_type": "execute_result"
    }
   ],
   "source": [
    "alzheimer['StratificationCategory1'].isnull().value_counts()"
   ]
  },
  {
   "cell_type": "code",
   "execution_count": 36,
   "id": "a97d10ac-0e9f-435b-9710-0a938229f16f",
   "metadata": {},
   "outputs": [
    {
     "data": {
      "text/plain": [
       "StratificationCategory2\n",
       "False    247269\n",
       "True      36873\n",
       "Name: count, dtype: int64"
      ]
     },
     "execution_count": 36,
     "metadata": {},
     "output_type": "execute_result"
    }
   ],
   "source": [
    "alzheimer['StratificationCategory2'].isnull().value_counts()"
   ]
  },
  {
   "cell_type": "code",
   "execution_count": 37,
   "id": "69a47b68-9fee-4ebf-b595-ca5d69d9534a",
   "metadata": {},
   "outputs": [
    {
     "data": {
      "text/plain": [
       "Stratification2\n",
       "False    247269\n",
       "True      36873\n",
       "Name: count, dtype: int64"
      ]
     },
     "execution_count": 37,
     "metadata": {},
     "output_type": "execute_result"
    }
   ],
   "source": [
    "alzheimer['Stratification2'].isnull().value_counts()"
   ]
  },
  {
   "cell_type": "code",
   "execution_count": 38,
   "id": "7cefcd90-0983-4fd8-a45e-cda7cc3aca8b",
   "metadata": {},
   "outputs": [
    {
     "data": {
      "text/plain": [
       "Geolocation\n",
       "False    253653\n",
       "True      30489\n",
       "Name: count, dtype: int64"
      ]
     },
     "execution_count": 38,
     "metadata": {},
     "output_type": "execute_result"
    }
   ],
   "source": [
    "alzheimer['Geolocation'].isnull().value_counts()"
   ]
  },
  {
   "cell_type": "code",
   "execution_count": 40,
   "id": "0e420eeb-de39-4b6f-8347-445b48e504bf",
   "metadata": {},
   "outputs": [
    {
     "data": {
      "text/plain": [
       "ClassID\n",
       "False    284142\n",
       "Name: count, dtype: int64"
      ]
     },
     "execution_count": 40,
     "metadata": {},
     "output_type": "execute_result"
    }
   ],
   "source": [
    "alzheimer['ClassID'].isnull().value_counts()"
   ]
  },
  {
   "cell_type": "code",
   "execution_count": 41,
   "id": "d2190182-6f9d-45be-85b4-437b0d1f15fa",
   "metadata": {},
   "outputs": [
    {
     "data": {
      "text/plain": [
       "TopicID\n",
       "False    284142\n",
       "Name: count, dtype: int64"
      ]
     },
     "execution_count": 41,
     "metadata": {},
     "output_type": "execute_result"
    }
   ],
   "source": [
    "alzheimer['TopicID'].isnull().value_counts()"
   ]
  },
  {
   "cell_type": "code",
   "execution_count": 42,
   "id": "30002f84-5d1b-44ba-b9b7-5b89034b23c3",
   "metadata": {},
   "outputs": [
    {
     "data": {
      "text/plain": [
       "QuestionID\n",
       "False    284142\n",
       "Name: count, dtype: int64"
      ]
     },
     "execution_count": 42,
     "metadata": {},
     "output_type": "execute_result"
    }
   ],
   "source": [
    "alzheimer['QuestionID'].isnull().value_counts()"
   ]
  },
  {
   "cell_type": "code",
   "execution_count": 44,
   "id": "9706595c-95e4-4719-9f3c-b2f76966e869",
   "metadata": {},
   "outputs": [
    {
     "data": {
      "text/plain": [
       "LocationID\n",
       "False    284142\n",
       "Name: count, dtype: int64"
      ]
     },
     "execution_count": 44,
     "metadata": {},
     "output_type": "execute_result"
    }
   ],
   "source": [
    "alzheimer['LocationID'].isnull().value_counts()"
   ]
  },
  {
   "cell_type": "code",
   "execution_count": 45,
   "id": "21d50116-6560-4da0-ba5c-717480d8f4db",
   "metadata": {},
   "outputs": [
    {
     "data": {
      "text/plain": [
       "StratificationCategoryID1\n",
       "False    284142\n",
       "Name: count, dtype: int64"
      ]
     },
     "execution_count": 45,
     "metadata": {},
     "output_type": "execute_result"
    }
   ],
   "source": [
    "alzheimer['StratificationCategoryID1'].isnull().value_counts()"
   ]
  },
  {
   "cell_type": "code",
   "execution_count": 46,
   "id": "851614fe-ef1c-4e1c-87af-82161ab0829f",
   "metadata": {},
   "outputs": [
    {
     "data": {
      "text/plain": [
       "StratificationID1\n",
       "False    284142\n",
       "Name: count, dtype: int64"
      ]
     },
     "execution_count": 46,
     "metadata": {},
     "output_type": "execute_result"
    }
   ],
   "source": [
    "alzheimer['StratificationID1'].isnull().value_counts()"
   ]
  },
  {
   "cell_type": "code",
   "execution_count": 47,
   "id": "dbbfb5a3-722d-49a4-9fc5-ead0555043b7",
   "metadata": {},
   "outputs": [
    {
     "data": {
      "text/plain": [
       "StratificationCategoryID2\n",
       "False    284142\n",
       "Name: count, dtype: int64"
      ]
     },
     "execution_count": 47,
     "metadata": {},
     "output_type": "execute_result"
    }
   ],
   "source": [
    "alzheimer['StratificationCategoryID2'].isnull().value_counts()"
   ]
  },
  {
   "cell_type": "code",
   "execution_count": 48,
   "id": "8b5d861f-8019-49b2-b973-32597ccc9785",
   "metadata": {},
   "outputs": [
    {
     "data": {
      "text/plain": [
       "StratificationID2\n",
       "False    284142\n",
       "Name: count, dtype: int64"
      ]
     },
     "execution_count": 48,
     "metadata": {},
     "output_type": "execute_result"
    }
   ],
   "source": [
    "alzheimer['StratificationID2'].isnull().value_counts()"
   ]
  },
  {
   "cell_type": "code",
   "execution_count": null,
   "id": "ac4e235d-14c3-4fbb-8fd6-b9d287c7b055",
   "metadata": {},
   "outputs": [],
   "source": []
  }
 ],
 "metadata": {
  "kernelspec": {
   "display_name": "Python 3 (ipykernel)",
   "language": "python",
   "name": "python3"
  },
  "language_info": {
   "codemirror_mode": {
    "name": "ipython",
    "version": 3
   },
   "file_extension": ".py",
   "mimetype": "text/x-python",
   "name": "python",
   "nbconvert_exporter": "python",
   "pygments_lexer": "ipython3",
   "version": "3.10.12"
  }
 },
 "nbformat": 4,
 "nbformat_minor": 5
}
