{
 "cells": [
  {
   "cell_type": "code",
   "execution_count": 4,
   "id": "c1dbda2f-15e2-4806-ba88-eb140d55c9cf",
   "metadata": {},
   "outputs": [],
   "source": [
    "import seaborn as sns\n",
    "import matplotlib as plt\n",
    "import numpy as np\n",
    "import pandas as pd"
   ]
  },
  {
   "cell_type": "code",
   "execution_count": 5,
   "id": "3283d2c6-e1d1-4d52-a6ab-d83c533454a9",
   "metadata": {},
   "outputs": [],
   "source": [
    "air_monitoring_df = pd.read_csv('/home/oem/machine_learning_jupyter/annual_conc_by_monitor_2023.csv')"
   ]
  },
  {
   "cell_type": "code",
   "execution_count": null,
   "id": "93ed517b-3eb2-4fe7-86b8-f3e8dd7f0808",
   "metadata": {},
   "outputs": [],
   "source": [
    "# Select the first 1000 rows\n",
    "\n",
    "subset_df = air_monitoring_df.head(1000)"
   ]
  },
  {
   "cell_type": "code",
   "execution_count": 21,
   "id": "7c1a4aa5-43e6-4aba-82d9-a8bb2c9dacc5",
   "metadata": {},
   "outputs": [
    {
     "name": "stdout",
     "output_type": "stream",
     "text": [
      "   State Code  County Code  Site Num  Parameter Code  POC   Latitude  \\\n",
      "0           1            3        10           44201    1  30.497478   \n",
      "1           1            3        10           44201    1  30.497478   \n",
      "2           1            3        10           44201    1  30.497478   \n",
      "3           1            3        10           44201    1  30.497478   \n",
      "4           1            3        10           88101    3  30.497478   \n",
      "\n",
      "   Longitude  Datum            Parameter Name          Sample Duration  ...  \\\n",
      "0 -87.880258  NAD83                     Ozone                   1 HOUR  ...   \n",
      "1 -87.880258  NAD83                     Ozone  8-HR RUN AVG BEGIN HOUR  ...   \n",
      "2 -87.880258  NAD83                     Ozone  8-HR RUN AVG BEGIN HOUR  ...   \n",
      "3 -87.880258  NAD83                     Ozone  8-HR RUN AVG BEGIN HOUR  ...   \n",
      "4 -87.880258  NAD83  PM2.5 - Local Conditions                   1 HOUR  ...   \n",
      "\n",
      "  75th Percentile 50th Percentile 10th Percentile    Local Site Name  \\\n",
      "0           0.054           0.049           0.031  FAIRHOPE, Alabama   \n",
      "1           0.050           0.044           0.027  FAIRHOPE, Alabama   \n",
      "2           0.050           0.044           0.027  FAIRHOPE, Alabama   \n",
      "3           0.049           0.044           0.027  FAIRHOPE, Alabama   \n",
      "4          10.500           7.200           2.000  FAIRHOPE, Alabama   \n",
      "\n",
      "                                             Address State Name  County Name  \\\n",
      "0  FAIRHOPE HIGH SCHOOL, 1 PIRATE DRIVE, FAIRHOPE...    Alabama      Baldwin   \n",
      "1  FAIRHOPE HIGH SCHOOL, 1 PIRATE DRIVE, FAIRHOPE...    Alabama      Baldwin   \n",
      "2  FAIRHOPE HIGH SCHOOL, 1 PIRATE DRIVE, FAIRHOPE...    Alabama      Baldwin   \n",
      "3  FAIRHOPE HIGH SCHOOL, 1 PIRATE DRIVE, FAIRHOPE...    Alabama      Baldwin   \n",
      "4  FAIRHOPE HIGH SCHOOL, 1 PIRATE DRIVE, FAIRHOPE...    Alabama      Baldwin   \n",
      "\n",
      "   City Name                  CBSA Name  Date of Last Change  \n",
      "0   Fairhope  Daphne-Fairhope-Foley, AL           2023-09-22  \n",
      "1   Fairhope  Daphne-Fairhope-Foley, AL           2023-09-22  \n",
      "2   Fairhope  Daphne-Fairhope-Foley, AL           2023-09-22  \n",
      "3   Fairhope  Daphne-Fairhope-Foley, AL           2023-09-22  \n",
      "4   Fairhope  Daphne-Fairhope-Foley, AL           2023-09-22  \n",
      "\n",
      "[5 rows x 55 columns]\n"
     ]
    }
   ],
   "source": [
    "print(subset_df.head())"
   ]
  },
  {
   "cell_type": "code",
   "execution_count": 25,
   "id": "0fac9764-b47d-4b9e-822c-139f5b7f0d2a",
   "metadata": {},
   "outputs": [
    {
     "data": {
      "text/plain": [
       "State Code                         0\n",
       "County Code                        0\n",
       "Site Num                           0\n",
       "Parameter Code                     0\n",
       "POC                                0\n",
       "Latitude                           0\n",
       "Longitude                          0\n",
       "Datum                              0\n",
       "Parameter Name                     0\n",
       "Sample Duration                    0\n",
       "Pollutant Standard               623\n",
       "Metric Used                        0\n",
       "Method Name                      196\n",
       "Year                               0\n",
       "Units of Measure                   0\n",
       "Event Type                         0\n",
       "Observation Count                  0\n",
       "Observation Percent                0\n",
       "Completeness Indicator             0\n",
       "Valid Day Count                    0\n",
       "Required Day Count                 0\n",
       "Exceptional Data Count             0\n",
       "Null Data Count                    0\n",
       "Primary Exceedance Count         747\n",
       "Secondary Exceedance Count       756\n",
       "Certification Indicator            0\n",
       "Num Obs Below MDL                  0\n",
       "Arithmetic Mean                    0\n",
       "Arithmetic Standard Dev            0\n",
       "1st Max Value                      0\n",
       "1st Max DateTime                   0\n",
       "2nd Max Value                      0\n",
       "2nd Max DateTime                   0\n",
       "3rd Max Value                      0\n",
       "3rd Max DateTime                   0\n",
       "4th Max Value                      0\n",
       "4th Max DateTime                   0\n",
       "1st Max Non Overlapping Value    995\n",
       "1st NO Max DateTime              995\n",
       "2nd Max Non Overlapping Value    995\n",
       "2nd NO Max DateTime              995\n",
       "99th Percentile                    0\n",
       "98th Percentile                    0\n",
       "95th Percentile                    0\n",
       "90th Percentile                    0\n",
       "75th Percentile                    0\n",
       "50th Percentile                    0\n",
       "10th Percentile                    0\n",
       "Local Site Name                    0\n",
       "Address                            0\n",
       "State Name                         0\n",
       "County Name                        0\n",
       "City Name                        202\n",
       "CBSA Name                         57\n",
       "Date of Last Change                0\n",
       "dtype: int64"
      ]
     },
     "execution_count": 25,
     "metadata": {},
     "output_type": "execute_result"
    }
   ],
   "source": [
    " subset_df.isnull().sum()"
   ]
  },
  {
   "cell_type": "code",
   "execution_count": null,
   "id": "24827564-a13a-4403-829f-928046eb3f25",
   "metadata": {},
   "outputs": [],
   "source": []
  }
 ],
 "metadata": {
  "kernelspec": {
   "display_name": "Python 3 (ipykernel)",
   "language": "python",
   "name": "python3"
  },
  "language_info": {
   "codemirror_mode": {
    "name": "ipython",
    "version": 3
   },
   "file_extension": ".py",
   "mimetype": "text/x-python",
   "name": "python",
   "nbconvert_exporter": "python",
   "pygments_lexer": "ipython3",
   "version": "3.12.4"
  }
 },
 "nbformat": 4,
 "nbformat_minor": 5
}
